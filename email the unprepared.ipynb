{
 "cells": [
  {
   "cell_type": "markdown",
   "id": "818c6b5c",
   "metadata": {},
   "source": [
    "Takes downloaded Course Activity csv file and prints out custom emails to let students know what they need to be reading."
   ]
  },
  {
   "cell_type": "code",
   "execution_count": 1,
   "id": "44899058",
   "metadata": {},
   "outputs": [],
   "source": [
    "import pandas as pd\n",
    "import csv"
   ]
  },
  {
   "cell_type": "markdown",
   "id": "fb6b1a60",
   "metadata": {},
   "source": [
    "**Note:** Replace the values list in `should_have_read` with the appropriate resources for your assignment."
   ]
  },
  {
   "cell_type": "code",
   "execution_count": 2,
   "id": "51449da1",
   "metadata": {},
   "outputs": [],
   "source": [
    "def needs_read(students_name):\n",
    "    should_have_read = ['Two principles of ethics', 'What is an ethical dilemma?', '② Reading: What is a dilemma?',\n",
    "                   'Ethical Dilemma or Not?', 'What is Ethics? (guest lecture)', '① Lecture', \n",
    "                   'Nature of Ethics self-check debriefing', '② Outcomes', 'Draft Ethical Dilemmas',\n",
    "                   'Meaning of \"principle\"']\n",
    "    \n",
    "    \n",
    "    student_read = df[df.Student_Name == students_name].Content.drop_duplicates().tolist()\n",
    "    \n",
    "    need_to_read = [x for x in should_have_read if x not in student_read]\n",
    "    return(need_to_read)"
   ]
  },
  {
   "cell_type": "code",
   "execution_count": 3,
   "id": "750fa08d",
   "metadata": {},
   "outputs": [],
   "source": [
    "activity_report_path = '/Users/briandomino/Downloads/activity 9-5-2021.csv'"
   ]
  },
  {
   "cell_type": "code",
   "execution_count": 4,
   "id": "574305ec",
   "metadata": {},
   "outputs": [],
   "source": [
    "df = pd.read_csv(activity_report_path)"
   ]
  },
  {
   "cell_type": "markdown",
   "id": "6a1a0f19",
   "metadata": {},
   "source": [
    "This cleaning step is not strickly necessary, but I find it helpful if I need to look at the dataframe from within the notebook, e.g., to copy the resource names to paste into `should_have_read` above."
   ]
  },
  {
   "cell_type": "code",
   "execution_count": 5,
   "id": "f28e6197",
   "metadata": {},
   "outputs": [],
   "source": [
    "# Remove unneeded columns\n",
    "df = df.drop(['Section Id', 'Section Name', 'Course Id', 'Course Name', 'Content Type',\n",
    "                     'Times Viewed', 'Times Participated', 'Start Date', 'Student Id'], axis=1)"
   ]
  },
  {
   "cell_type": "code",
   "execution_count": 6,
   "id": "cc987cd8",
   "metadata": {},
   "outputs": [],
   "source": [
    "# Rename columns so we can use their names more easily\n",
    "df = df.rename(columns={\"Student Name\": \"Student_Name\", 'Sortable Name': 'Sortable_Name',\n",
    "                   'Student SIS ID': 'Student_ID', 'Content Name': 'Content', 'First Viewed': 'First_Viewed',\n",
    "                  'Last Viewed': 'Last_Viewed'})"
   ]
  },
  {
   "cell_type": "markdown",
   "id": "5befb53b",
   "metadata": {},
   "source": [
    "The `activity.csv` file will list every resource each student has looked at. I like to remove the more common irrelevant ones such as images. Again this isn't strickly necessary; it just makes life easier if you need to interact with the dataframe manually. You will need to change these values to suit your course."
   ]
  },
  {
   "cell_type": "code",
   "execution_count": 1,
   "id": "09effc99",
   "metadata": {},
   "outputs": [],
   "source": [
    "# Content it doesn't matter whether they've looked at\n",
    "stops = ['Course Home', 'Course People', 'headshot.jpg', 'ethics v legal.jpg', 'MoralityWordCloud.jpg',\n",
    "         'moral dilemma ahead.jpeg', 'Course Grades', 'Course Modules', 'Google Apps']"
   ]
  },
  {
   "cell_type": "code",
   "execution_count": 8,
   "id": "1ab0499a",
   "metadata": {},
   "outputs": [],
   "source": [
    "# Remove stops\n",
    "for i in range(0, len(stops)):\n",
    "    df = df.loc[~((df['Content'] == stops[i])),:]"
   ]
  },
  {
   "cell_type": "code",
   "execution_count": 9,
   "id": "b64d2dae",
   "metadata": {},
   "outputs": [],
   "source": [
    "#remove rows where student looked at page < 1 second\n",
    "df = df[df['First_Viewed']!=df['Last_Viewed']]"
   ]
  },
  {
   "cell_type": "code",
   "execution_count": 10,
   "id": "1d8bd99d",
   "metadata": {},
   "outputs": [],
   "source": [
    "name_list = df['Student_Name'].unique().tolist()"
   ]
  },
  {
   "cell_type": "code",
   "execution_count": 11,
   "id": "1d9ed9ab",
   "metadata": {},
   "outputs": [],
   "source": [
    "closing_message = \"\"\"Also note that this is intended to be helpful and is neither a criticism nor a graded \n",
    "activity. If you believe that the information is incorrect, I would encourage you to double-check that you\n",
    "have done all of the readings in Module ②. And don't worry; your grade was not lowered.\"\"\""
   ]
  },
  {
   "cell_type": "code",
   "execution_count": 12,
   "id": "39399440",
   "metadata": {},
   "outputs": [],
   "source": [
    "closing_message = closing_message.replace('\\n', '')"
   ]
  },
  {
   "cell_type": "markdown",
   "id": "5466c2c1",
   "metadata": {},
   "source": [
    "The cell below will print the emails to the screen. I do this as a dry run. The output will look like this:\n",
    "\n",
    ">Email to: studentid\n",
    ">\n",
    ">Subject = Readings to do before the next assignment\n",
    ">Dear Jane,\n",
    ">\n",
    ">According to Canvas you have not yet done the following readings, which are necessary for the upcoming assignment: Two principles of ethics', 'What is an ethical dilemma?', '② Reading: What is a dilemma?'.\n",
    ">\n",
    ">\n",
    ">Please note: due to a limitation in Canvas, this information may be as much as 40 hours old.\n",
    ">This email is intended to be helpful and is neither a criticism nor a graded activity. If you believe that the information is incorrect, I would encourage you to double-check that you have done all of the readings in Module ②. And don't worry; your grade was not lowered."
   ]
  },
  {
   "cell_type": "code",
   "execution_count": null,
   "id": "c4038261",
   "metadata": {},
   "outputs": [],
   "source": [
    "for name in name_list:\n",
    "    needs_to_read = needs_read(name)\n",
    "    if len(needs_to_read) > 5:\n",
    "        print('HIGH HIGH HIGH')\n",
    "    print(f'Email to: {df[df.Student_Name == name].Student_ID.unique()}\\n')\n",
    "    print('Subject = Readings to do before the next assignment')\n",
    "    print(f'Dear {name.split()[0]},\\n')\n",
    "    print(f'According to Canvas you have not yet done the following readings, which are necessary for the upcoming assignment: {\", \".join(map(str, needs_to_read))}.')\n",
    "    print('\\nPlease note: due to a limitation in Canvas, this information may be as much as 40 hours old.')\n",
    "    print(closing_message + '\\n')\n",
    "    print('-----')"
   ]
  },
  {
   "cell_type": "markdown",
   "id": "68976b2b",
   "metadata": {},
   "source": [
    "This creates the CSV file that you will upload to Google Sheets to run the mail merge."
   ]
  },
  {
   "cell_type": "code",
   "execution_count": 13,
   "id": "887a9f3d",
   "metadata": {},
   "outputs": [],
   "source": [
    "with open('dilemma_need_to_read.csv', 'w') as csvfile:\n",
    "        fieldnames = ['address', 'subject', 'message']\n",
    "        writer = csv.DictWriter(csvfile, fieldnames=fieldnames)\n",
    "        \n",
    "        writer.writeheader()\n",
    "        \n",
    "        for name in name_list:\n",
    "            \n",
    "            needs_to_read = needs_read(name)\n",
    "            email_address = df[df.Student_Name == name].Student_ID.unique()\n",
    "            email_address = str(email_address).replace('[', '').replace(']', '').replace('\\'','') + '@miamioh.edu'\n",
    "            \n",
    "            subject = 'Readings to do before the next assignment'\n",
    "            message = f'Dear {name.split()[0]},\\nAccording to Canvas you have not yet done the following readings, which are necessary for the upcoming assignment: {\", \".join(map(str, needs_to_read))}.'\n",
    "            message = message + '\\n\\nPlease note: due to a limitation in Canvas, this information may be as much as 40 hours old. '\n",
    "            message = message + closing_message + '\\n'\n",
    "            \n",
    "            \n",
    "            writer.writerow({'address': email_address, 'subject': subject, 'message': message})\n"
   ]
  },
  {
   "cell_type": "code",
   "execution_count": null,
   "id": "8066ca19",
   "metadata": {},
   "outputs": [],
   "source": []
  }
 ],
 "metadata": {
  "kernelspec": {
   "display_name": "Python 3",
   "language": "python",
   "name": "python3"
  },
  "language_info": {
   "codemirror_mode": {
    "name": "ipython",
    "version": 3
   },
   "file_extension": ".py",
   "mimetype": "text/x-python",
   "name": "python",
   "nbconvert_exporter": "python",
   "pygments_lexer": "ipython3",
   "version": "3.8.12"
  }
 },
 "nbformat": 4,
 "nbformat_minor": 5
}
